{
  "nbformat": 4,
  "nbformat_minor": 0,
  "metadata": {
    "colab": {
      "provenance": [],
      "authorship_tag": "ABX9TyP8oihsaC+rUeEm5ikjbj7S",
      "include_colab_link": true
    },
    "kernelspec": {
      "name": "python3",
      "display_name": "Python 3"
    },
    "language_info": {
      "name": "python"
    }
  },
  "cells": [
    {
      "cell_type": "markdown",
      "metadata": {
        "id": "view-in-github",
        "colab_type": "text"
      },
      "source": [
        "<a href=\"https://colab.research.google.com/github/Nikithailuri/Python/blob/main/DataTypes.ipynb\" target=\"_parent\"><img src=\"https://colab.research.google.com/assets/colab-badge.svg\" alt=\"Open In Colab\"/></a>"
      ]
    },
    {
      "cell_type": "code",
      "execution_count": 26,
      "metadata": {
        "colab": {
          "base_uri": "https://localhost:8080/"
        },
        "id": "U6Ga3Y7c_tnA",
        "outputId": "f89713fa-2761-4b44-b7c6-ed2ac333f085"
      },
      "outputs": [
        {
          "output_type": "stream",
          "name": "stdout",
          "text": [
            "['apple', 'banana', 'cherry', 7, 8.9]\n",
            "<class 'list'>\n"
          ]
        }
      ],
      "source": [
        "x=[\"apple\", \"banana\", \"cherry\",7,8.9 ]\n",
        "print(x)\n",
        "print(type(x))"
      ]
    },
    {
      "cell_type": "code",
      "source": [
        "x=(\"apple\", \"banana\", \"cherry\", 9 ,9,9, 9.0,True,4)\n",
        "print(x.count(9))\n",
        "print(x.index(\"banana\"))\n",
        "\n",
        "\n",
        "print(type(x))"
      ],
      "metadata": {
        "colab": {
          "base_uri": "https://localhost:8080/"
        },
        "id": "HyWACnQVAFNk",
        "outputId": "d177954b-c97d-4d97-ef06-92bcc5838279"
      },
      "execution_count": 27,
      "outputs": [
        {
          "output_type": "stream",
          "name": "stdout",
          "text": [
            "4\n",
            "1\n",
            "<class 'tuple'>\n"
          ]
        }
      ]
    },
    {
      "cell_type": "code",
      "source": [
        "x=(1,2,3,4,5,6,7,8,9,)\n",
        "print(min(x))\n",
        "print(max(x))\n",
        "print(type(x))"
      ],
      "metadata": {
        "colab": {
          "base_uri": "https://localhost:8080/"
        },
        "id": "z3pgnXKwFQxz",
        "outputId": "fd7085fa-e66b-4638-b305-467fabff9e57"
      },
      "execution_count": 28,
      "outputs": [
        {
          "output_type": "stream",
          "name": "stdout",
          "text": [
            "1\n",
            "9\n",
            "<class 'tuple'>\n"
          ]
        }
      ]
    },
    {
      "cell_type": "code",
      "source": [
        "x = {\"name\" : \"John\", \"age\" : 36,}\n",
        "print(x.keys())\n",
        "print(x.values())\n",
        "print(x.items())\n",
        "print(x.pop(\"name\"))\n",
        "print(x.update({\"course\":\"python\"}))\n",
        "print(x)\n",
        "print(type(x))"
      ],
      "metadata": {
        "colab": {
          "base_uri": "https://localhost:8080/"
        },
        "id": "9it6Rl4sAody",
        "outputId": "bb55959a-0003-4f0f-d67a-9632922686dd"
      },
      "execution_count": 29,
      "outputs": [
        {
          "output_type": "stream",
          "name": "stdout",
          "text": [
            "dict_keys(['name', 'age'])\n",
            "dict_values(['John', 36])\n",
            "dict_items([('name', 'John'), ('age', 36)])\n",
            "John\n",
            "None\n",
            "{'age': 36, 'course': 'python'}\n",
            "<class 'dict'>\n"
          ]
        }
      ]
    },
    {
      "cell_type": "code",
      "source": [
        "x = {\"apple\", \"banana\", \"cherry\"}\n",
        "print(x)\n",
        "print(type(x))"
      ],
      "metadata": {
        "colab": {
          "base_uri": "https://localhost:8080/"
        },
        "id": "-eZg9ESVAvl3",
        "outputId": "9ae42685-867d-43a8-8ad4-a27b51a2b415"
      },
      "execution_count": 30,
      "outputs": [
        {
          "output_type": "stream",
          "name": "stdout",
          "text": [
            "{'apple', 'cherry', 'banana'}\n",
            "<class 'set'>\n"
          ]
        }
      ]
    },
    {
      "cell_type": "markdown",
      "source": [
        "**LIST METHODS**\n",
        "\n",
        "\n",
        "\n",
        "\n",
        "\n",
        "append()\tAdds an element at the end of the list\n",
        "\n",
        "clear()\tRemoves all the elements from the list\n",
        "\n",
        "copy()\tReturns a copy of the list\n",
        "\n",
        "count()\tReturns the number of elements with the specified value\n",
        "\n",
        "extend()\tAdd the elements of a list (or any iterable), to the end of the current list\n",
        "\n",
        "index()\tReturns the index of the first element with the specified value\n",
        "\n",
        "insert()\tAdds an element at the specified position\n",
        "\n",
        "pop()\tRemoves the element at the specified position\n",
        "\n",
        "remove()\tRemoves the first item with the specified value\n",
        "\n",
        "reverse()\tReverses the order of the list\n",
        "\n",
        "sort()"
      ],
      "metadata": {
        "id": "jCKtYcfkBFhG"
      }
    },
    {
      "cell_type": "code",
      "source": [],
      "metadata": {
        "id": "iwk2AxbFBE2I"
      },
      "execution_count": 30,
      "outputs": []
    },
    {
      "cell_type": "code",
      "source": [],
      "metadata": {
        "id": "sTHvzdMuA0nA"
      },
      "execution_count": 30,
      "outputs": []
    }
  ]
}